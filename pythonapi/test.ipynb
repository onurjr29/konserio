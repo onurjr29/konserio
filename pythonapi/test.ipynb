{
 "cells": [
  {
   "cell_type": "code",
   "execution_count": 1,
   "metadata": {},
   "outputs": [],
   "source": [
    "import requests\n",
    "from bs4 import BeautifulSoup"
   ]
  },
  {
   "cell_type": "code",
   "execution_count": 2,
   "metadata": {},
   "outputs": [],
   "source": [
    "main_page = requests.get('https://www.biletinial.com/tr-tr/muzik')\n",
    "soup = BeautifulSoup(main_page.text, 'html.parser')"
   ]
  },
  {
   "cell_type": "code",
   "execution_count": 3,
   "metadata": {},
   "outputs": [
    {
     "name": "stdout",
     "output_type": "stream",
     "text": [
      "['/tr-tr/muzik/serdar-ortac-konseri', '/tr-tr/muzik/buena-vista-all-stars', '/tr-tr/muzik/motive-konseri', '/tr-tr/muzik/an-epic-symphony-sibel-can-husnu-senlendirici', '/tr-tr/muzik/ogun-sanlisoy-konser', '/tr-tr/muzik/can-ozan-knsr', '/tr-tr/muzik/deep-purple', '/tr-tr/muzik/emre-aydin-konser', '/tr-tr/muzik/seksendort-', '/tr-tr/muzik/mert-demir-gun-batimi-konseri', '/tr-tr/muzik/mert-demir', '/tr-tr/muzik/an-epic-symphony-pentagram', '/tr-tr/muzik/flashback-90lar-turkce-pop-gecesi', '/tr-tr/muzik/yngwie-malmsteen', '/tr-tr/muzik/an-epic-symphony-gokhan-turkmen', '/tr-tr/muzik/ibrahim-tatlises-konseri', '/tr-tr/muzik/mor-ve-otesi-konser', '/tr-tr/muzik/andre-soueid', '/tr-tr/muzik/kaleo-konseri', '/tr-tr/muzik/karsu-konseri', '/tr-tr/muzik/gipsy-kings-feat-tonino-baliardo', '/tr-tr/muzik/ayta-sozeri-ruya-konserleri', '/tr-tr/muzik/an-epic-symphony-ahmet-kaya-mehmet-erdem', '/tr-tr/muzik/hayko-cepkin-eat', '/tr-tr/muzik/argy', '/tr-tr/muzik/placebo', '/tr-tr/muzik/soundscape-festivali', '/tr-tr/muzik/yalin-konseri-biletleri', '/tr-tr/muzik/semicenk', '/tr-tr/muzik/postmodern-jukebox', '/tr-tr/muzik/gipsy-kings-by-andre-reyes', '/tr-tr/muzik/artbat', '/tr-tr/muzik/buika', '/tr-tr/muzik/in-flames', '/tr-tr/muzik/accept-konseri', '/tr-tr/muzik/100-muzik-sunar-the-white-buffalo-konseri', '/tr-tr/muzik/homayoun-shajarian-anoshirvan-rohani-konseri', '/tr-tr/muzik/new-model-army', '/tr-tr/muzik/marakas-yapimi-akm-', '/tr-tr/muzik/bulutsuzluk-ozlemi-konser', '/tr-tr/muzik/ezginin-gunlugu', '/tr-tr/muzik/tugce-kandemir', '/tr-tr/muzik/sema-mukabelesi-konya-turk-tasavvuf-mt', '/tr-tr/muzik/90-lar-turkce-pop-partisi-if', '/tr-tr/muzik/yuz-yuzeyken-konusuruz', '/tr-tr/muzik/dedubluman-konseri', '/tr-tr/muzik/saniser-sokrat-st', '/tr-tr/muzik/the-five-horsemen-metallica-tribute-if', '/tr-tr/muzik/mesk-vakti-idtmaut', '/tr-tr/muzik/tnk', '/tr-tr/muzik/gokhan-ozen', '/tr-tr/muzik/derya-ulug', '/tr-tr/muzik/sagopa-kajmer-konseri-biletleri', '/tr-tr/muzik/grup-gundogarken', '/tr-tr/muzik/rubato-konseri', '/tr-tr/muzik/jakuzi', '/tr-tr/muzik/emre-altug-dd', '/tr-tr/muzik/ayca-ozefe', '/tr-tr/muzik/blok-uc', '/tr-tr/muzik/ilkay-akkaya', '/tr-tr/muzik/ayla-balyemez-ile-karisik-kaset-dada-salon-kabarett', '/tr-tr/muzik/celik-konseri', '/tr-tr/muzik/tutkum-bogusmak-show-dadasalon', '/tr-tr/muzik/ayna-if', '/tr-tr/muzik/soft-analog', '/tr-tr/muzik/cocuklar-icin-resim-atolyesi-akm', '/tr-tr/muzik/can-temiz-konseri', '/tr-tr/muzik/cem-adrian-eat', '/tr-tr/muzik/goran-bregovic', '/tr-tr/muzik/kibariye', '/tr-tr/muzik/berkay', '/tr-tr/muzik/an-epic-symphony-manga', '/tr-tr/muzik/hedonutopia', '/tr-tr/muzik/taladro', '/tr-tr/muzik/flort', '/tr-tr/muzik/emre-nalbantoglu-if', '/tr-tr/muzik/can-gox', '/tr-tr/muzik/skapova', '/tr-tr/muzik/aziza-mustafa-zadeh-konseri', '/tr-tr/muzik/festivalde-kal-2024-muzik-festivali-kocaeli', '/tr-tr/muzik/son-feci-bisiklet', '/tr-tr/muzik/mustafa-keser-konseri', '/tr-tr/muzik/second-if', '/tr-tr/muzik/mary-jane-hayal-kahvesi', '/tr-tr/muzik/leman-sam-knsr', '/tr-tr/muzik/emre-fel-konser', '/tr-tr/muzik/feridun-duzagac-konseri', '/tr-tr/muzik/birsen-tezer', '/tr-tr/muzik/bayhan', '/tr-tr/muzik/hande-yener', '/tr-tr/muzik/yasar-konseri', '/tr-tr/muzik/ilyas-yalcintas-kechi', '/tr-tr/muzik/mirkelam', '/tr-tr/muzik/threehills-festival-tyga', '/tr-tr/muzik/greenify-the-cinematic-orchestra-no-clear-mind-electric-litany', '/tr-tr/muzik/al-di-meola-electric-years-konseri', '/tr-tr/muzik/oktoberfestt', '/tr-tr/muzik/yeni-turku-fthaydnypm', '/tr-tr/muzik/husnu-arkan-if', '/tr-tr/muzik/dave-weckl-tom-kennedy-project-feat-eric-marienthal-stu-mindeman', '/tr-tr/muzik/perdenin-ardindakiler', '/tr-tr/muzik/testament', '/tr-tr/muzik/andy-stott', '/tr-tr/muzik/cocuklar-icin-drama-atolyesi-7-11yas-akm', '/tr-tr/muzik/ritim-atolyesi-akm', '/tr-tr/muzik/ebeveyn-cocuk-muzikle-tanisiyorum-akm', '/tr-tr/muzik/cocuklar-icin-yaratici-dans-akm', '/tr-tr/muzik/lego-education-ile-yaratici-eller-is-basinda-akm', '/tr-tr/muzik/ahmet-aslan-solo-konser', '/tr-tr/muzik/cini-sanati-ile-tanisiyorum-akm', '/tr-tr/muzik/peyk', '/tr-tr/muzik/anadolu-rock-ruzgari', '/tr-tr/muzik/rakir-konser', '/tr-tr/muzik/linet-jj', '/tr-tr/muzik/david-hockney-ile-havuz-akm', '/tr-tr/muzik/seramik-kuslar-atolyesi-akm', '/tr-tr/muzik/vincent-vangogh-ile-misir-tarlasi-akm', '/tr-tr/muzik/erken-muzik-egitimi-akm', '/tr-tr/muzik/geri-donusum-atolyesi-akm', '/tr-tr/muzik/ahsap-boyama-atolyesi-akm', '/tr-tr/muzik/urlaadam-rock-gunleri-umut-kaya-hakan-celiker', '/tr-tr/muzik/patika', '/tr-tr/muzik/anadolu-atesi-fire-of-anatolia', '/tr-tr/muzik/2000ler-turkce-pop-partisi', '/tr-tr/muzik/retro-night', '/tr-tr/muzik/yusuf-guney', '/tr-tr/muzik/dj-joker-2000ler-turkce-pop-parti', '/tr-tr/muzik/didem-sokmen', '/tr-tr/muzik/derya-bedavaci-jj', '/tr-tr/muzik/picasso-ile-maske-tasarimi-akm', '/tr-tr/muzik/cocuk-arkeologlar-kazida-akm', '/tr-tr/muzik/mozaik-pano-atolyesi-akm', '/tr-tr/muzik/cini-atolyesi-yas-grubu-7-11-akm', '/tr-tr/muzik/cocuklar-icin-yaratici-drama-4-6-yas-akm-', '/tr-tr/muzik/yuruyen-robot-yapimi-akm', '/tr-tr/muzik/ahsap-oyuncak-yapimi-atolyesi-ahsap-sandalye-yapimi-akm', '/tr-tr/muzik/best-of-iki-bin-yirmi-dort', '/tr-tr/muzik/urlaadam-rock-gunleri-sermest-basibozuk', '/tr-tr/muzik/ilkay-akkaya-grup-abdal-cem-erdost-ileri-turku-tadinda-konseri', '/tr-tr/muzik/fikri-karayel', '/tr-tr/muzik/kupa-kizi', '/tr-tr/muzik/fazil-say-serenad-bagcan-dunya-anne', '/tr-tr/muzik/iran-muzigi', '/tr-tr/muzik/rabia-tuncbilek', '/tr-tr/muzik/hakan-altun-jj', '/tr-tr/muzik/kuklami-konusturuyorum-akm', '/tr-tr/muzik/cocuklar-icin-dans-atolyesi-akm', '/tr-tr/muzik/claude-monet-ile-niluferler-akm', '/tr-tr/muzik/mini-bale-atolyesi-akm-', '/tr-tr/muzik/ahsap-oyuncak-yapimi-atolyesi-el-cambazi-akm', '/tr-tr/muzik/urlaadam-rock-gunleri-sevgi-basar-yaygara', '/tr-tr/muzik/cevdet-bagca-30yil-konseri', '/tr-tr/muzik/cemre-konseri', '/tr-tr/muzik/suat-atesdagli', '/tr-tr/muzik/deep-anathema-nights', '/tr-tr/muzik/leonida-timus', '/tr-tr/muzik/iki-yildiz-piyano-keman-resitali', '/tr-tr/muzik/cansu-nihal-akarsu-ft-izmir-airlines-istinyeart', '/tr-tr/muzik/bizimkiler-if', '/tr-tr/muzik/maruz', '/tr-tr/muzik/murat-mermer-konseri', '/tr-tr/muzik/ey-guzel-kirim-ozel-konseri-tdmhdt', '/tr-tr/muzik/hakan-aysev-ustalara-saygi', '/tr-tr/muzik/sarkilar-ve-turkuler-trabzon-kultur-yolu-festivali', '/tr-tr/muzik/emre-guler-konseri', '/tr-tr/muzik/tekir', '/tr-tr/muzik/yangin-konseri', '/tr-tr/muzik/rengarenk', '/tr-tr/muzik/adi-guzel-kendi-guzel-muhammed-deyis-ve-nefes-dinletisi-ankara-devlet-turk-halk-muzigi-korosu', '/tr-tr/muzik/selen-servi', '/tr-tr/muzik/anadolu-quartet-ve-mehtap-arslanargun', '/tr-tr/muzik/hepyek-volkan-incuvez', '/tr-tr/muzik/brek-apartman-diskosu-braderin-dj-set', '/tr-tr/muzik/begum-yigit', '/tr-tr/muzik/the-sisters', '/tr-tr/muzik/resim-sevinci-akm-', '/tr-tr/muzik/resimle-tanisiyorum-akm-', '/tr-tr/muzik/craft-brew-fest', '/tr-tr/muzik/mersin-mutlu-cocuk-festivali', '/tr-tr/muzik/elif-cohaz-trio', '/tr-tr/muzik/karisik-kaset-90lar-2000ler-turkce-pop-parti', '/tr-tr/muzik/jehan-barbur', '/tr-tr/muzik/kasim-tasdogan', '/tr-tr/muzik/defxane-session', '/tr-tr/muzik/rewsan-konseri-', '/tr-tr/muzik/selda-bagcan', '/tr-tr/muzik/aga-b-konseri', '/tr-tr/muzik/ozan-dogulu-orkun-bozdemir', '/tr-tr/muzik/piyano-kasifleri-akm-', '/tr-tr/muzik/yasli-amca-dxl', '/tr-tr/muzik/tulum-ve-kemence-ile-karadeniz-ezgileri-trabzon-kultur-yolu-festivali', '/tr-tr/muzik/ilke-yildiz-anadolu-turkuleri-konseri', '/tr-tr/muzik/serdar-canan', '/tr-tr/muzik/tefo-seko', '/tr-tr/muzik/deyim-yerindeyse', '/tr-tr/muzik/berkay-akalin', '/tr-tr/muzik/kurtulus-kus-burak-bulut', '/tr-tr/muzik/elif-eren-kustan-viyola-keman-performansi', '/tr-tr/muzik/ahmet-kaya-sarkilari-istanbul-devlet-modern-folk-muzik-toplulugu', '/tr-tr/muzik/right-in-tool', '/tr-tr/muzik/su-idil-konseri', '/tr-tr/muzik/naz-dej', '/tr-tr/muzik/ayaz-erdogan', '/tr-tr/muzik/simge-jj', '/tr-tr/muzik/ayca-akkin-sarkilari-ile-balkan-sofrasi', '/tr-tr/muzik/melis-fis', '/tr-tr/muzik/ozbi-konseri', '/tr-tr/muzik/gunes', '/tr-tr/muzik/siyam', '/tr-tr/muzik/serhat-kilic-dada-salon-kabaret', '/tr-tr/muzik/merih-askin', '/tr-tr/muzik/ezgi-alas', '/tr-tr/muzik/agackakan-konseri', '/tr-tr/muzik/yildiz-tilbe-jj', '/tr-tr/muzik/a-turkish-psychedelic-night-mogollar-hey-douglas-umut-adan', '/tr-tr/muzik/volkan-konak', '/tr-tr/muzik/kalben-konseri', '/tr-tr/muzik/korhan-futaci', '/tr-tr/muzik/marianna-zachou-mazlum-bageri', '/tr-tr/muzik/hollt', '/tr-tr/muzik/burgazada-akustik-festival', '/tr-tr/muzik/cem-adrian-konseri', '/tr-tr/muzik/suzan-hacigarip', '/tr-tr/muzik/valeron', '/tr-tr/muzik/emma-freestival', '/tr-tr/muzik/the-flabbies', '/tr-tr/muzik/dilan-citak', '/tr-tr/muzik/mayan-warrior-x-generic-music', '/tr-tr/muzik/kafadar', '/tr-tr/muzik/halit-bilgic', '/tr-tr/muzik/sabahat-akkiraz', '/tr-tr/muzik/45lik-sarkilar-teyfik-rodos-konseri', '/tr-tr/muzik/yalnayak-mojave', '/tr-tr/muzik/xece-herdem', '/tr-tr/muzik/brek', '/tr-tr/muzik/the-fest-val', '/tr-tr/muzik/an-epic-symphony-mustafa-sandal', '/tr-tr/muzik/tolga-candar-maksat-muhabbet', '/tr-tr/muzik/romain-garcia-buber-oh-no', '/tr-tr/muzik/lvbel-c5-cakal', '/tr-tr/muzik/90s-party', '/tr-tr/muzik/ediz-hafizoglu', '/tr-tr/muzik/mikail-aslan-erdal-erzincan-zeynep-baksi-karatag', '/tr-tr/muzik/100-muzik-sunar-beach-fossils', '/tr-tr/muzik/nation-of-language', '/tr-tr/muzik/ari-abdul', '/tr-tr/muzik/barabar-konseri', '/tr-tr/muzik/kaan-tangoze', '/tr-tr/muzik/sovak', '/tr-tr/muzik/yonca-bizi-90lara-gotur-daha-da-geri-getirme--', '/tr-tr/muzik/congulus-y-negative', '/tr-tr/muzik/petch-mode-an-evening-with-depeche-mode-music', '/tr-tr/muzik/sena-sener-', '/tr-tr/muzik/oguzhan-koc-dedubluman-konseri', '/tr-tr/muzik/bombino', '/tr-tr/muzik/pervin-chakar-opera-resitali', '/tr-tr/muzik/maruja', '/tr-tr/muzik/ivo-dimchev', '/tr-tr/muzik/alisher-nazirov', '/tr-tr/muzik/alcest', '/tr-tr/muzik/john-maus', '/tr-tr/muzik/kidso', '/tr-tr/muzik/eivind-aarset-quartet', '/tr-tr/muzik/pigs-pigs-pigs-pigs-pigs-pigs-pigs', '/tr-tr/muzik/anna-netrebko-yusif-eyvazov-konseri']\n"
     ]
    }
   ],
   "source": [
    "music_figures = soup.find_all('figure')\n",
    "music_links = []\n",
    "music_titles = []\n",
    "for music in music_figures:\n",
    "    link = music.a['href']\n",
    "    title = music.a['title']\n",
    "    music_links.append(link)\n",
    "    music_titles.append(title)\n",
    "    \n",
    "music_links.pop(0)\n",
    "music_titles.pop(0)\n",
    "\n",
    "\n",
    "# print(music_links)\n",
    "print(music_links)"
   ]
  },
  {
   "cell_type": "code",
   "execution_count": 9,
   "metadata": {},
   "outputs": [
    {
     "ename": "KeyboardInterrupt",
     "evalue": "",
     "output_type": "error",
     "traceback": [
      "\u001b[1;31m---------------------------------------------------------------------------\u001b[0m",
      "\u001b[1;31mKeyboardInterrupt\u001b[0m                         Traceback (most recent call last)",
      "Cell \u001b[1;32mIn[9], line 4\u001b[0m\n\u001b[0;32m      2\u001b[0m main_link \u001b[38;5;241m=\u001b[39m \u001b[38;5;124m\"\u001b[39m\u001b[38;5;124mhttps://www.biletinial.com\u001b[39m\u001b[38;5;124m\"\u001b[39m\n\u001b[0;32m      3\u001b[0m \u001b[38;5;28;01mfor\u001b[39;00m link \u001b[38;5;129;01min\u001b[39;00m music_links:\n\u001b[1;32m----> 4\u001b[0m     main_page \u001b[38;5;241m=\u001b[39m \u001b[43mrequests\u001b[49m\u001b[38;5;241;43m.\u001b[39;49m\u001b[43mget\u001b[49m\u001b[43m(\u001b[49m\u001b[43mmain_link\u001b[49m\u001b[43m \u001b[49m\u001b[38;5;241;43m+\u001b[39;49m\u001b[43m \u001b[49m\u001b[43mlink\u001b[49m\u001b[43m)\u001b[49m\n\u001b[0;32m      5\u001b[0m     main_soup \u001b[38;5;241m=\u001b[39m BeautifulSoup(main_page\u001b[38;5;241m.\u001b[39mtext, \u001b[38;5;124m'\u001b[39m\u001b[38;5;124mhtml.parser\u001b[39m\u001b[38;5;124m'\u001b[39m)\n\u001b[0;32m      7\u001b[0m     \u001b[38;5;66;03m# Find event details\u001b[39;00m\n",
      "File \u001b[1;32mc:\\Users\\Onur\\AppData\\Local\\Programs\\Python\\Python311\\Lib\\site-packages\\requests\\api.py:73\u001b[0m, in \u001b[0;36mget\u001b[1;34m(url, params, **kwargs)\u001b[0m\n\u001b[0;32m     62\u001b[0m \u001b[38;5;28;01mdef\u001b[39;00m \u001b[38;5;21mget\u001b[39m(url, params\u001b[38;5;241m=\u001b[39m\u001b[38;5;28;01mNone\u001b[39;00m, \u001b[38;5;241m*\u001b[39m\u001b[38;5;241m*\u001b[39mkwargs):\n\u001b[0;32m     63\u001b[0m \u001b[38;5;250m    \u001b[39m\u001b[38;5;124mr\u001b[39m\u001b[38;5;124;03m\"\"\"Sends a GET request.\u001b[39;00m\n\u001b[0;32m     64\u001b[0m \n\u001b[0;32m     65\u001b[0m \u001b[38;5;124;03m    :param url: URL for the new :class:`Request` object.\u001b[39;00m\n\u001b[1;32m   (...)\u001b[0m\n\u001b[0;32m     70\u001b[0m \u001b[38;5;124;03m    :rtype: requests.Response\u001b[39;00m\n\u001b[0;32m     71\u001b[0m \u001b[38;5;124;03m    \"\"\"\u001b[39;00m\n\u001b[1;32m---> 73\u001b[0m     \u001b[38;5;28;01mreturn\u001b[39;00m \u001b[43mrequest\u001b[49m\u001b[43m(\u001b[49m\u001b[38;5;124;43m\"\u001b[39;49m\u001b[38;5;124;43mget\u001b[39;49m\u001b[38;5;124;43m\"\u001b[39;49m\u001b[43m,\u001b[49m\u001b[43m \u001b[49m\u001b[43murl\u001b[49m\u001b[43m,\u001b[49m\u001b[43m \u001b[49m\u001b[43mparams\u001b[49m\u001b[38;5;241;43m=\u001b[39;49m\u001b[43mparams\u001b[49m\u001b[43m,\u001b[49m\u001b[43m \u001b[49m\u001b[38;5;241;43m*\u001b[39;49m\u001b[38;5;241;43m*\u001b[39;49m\u001b[43mkwargs\u001b[49m\u001b[43m)\u001b[49m\n",
      "File \u001b[1;32mc:\\Users\\Onur\\AppData\\Local\\Programs\\Python\\Python311\\Lib\\site-packages\\requests\\api.py:59\u001b[0m, in \u001b[0;36mrequest\u001b[1;34m(method, url, **kwargs)\u001b[0m\n\u001b[0;32m     55\u001b[0m \u001b[38;5;66;03m# By using the 'with' statement we are sure the session is closed, thus we\u001b[39;00m\n\u001b[0;32m     56\u001b[0m \u001b[38;5;66;03m# avoid leaving sockets open which can trigger a ResourceWarning in some\u001b[39;00m\n\u001b[0;32m     57\u001b[0m \u001b[38;5;66;03m# cases, and look like a memory leak in others.\u001b[39;00m\n\u001b[0;32m     58\u001b[0m \u001b[38;5;28;01mwith\u001b[39;00m sessions\u001b[38;5;241m.\u001b[39mSession() \u001b[38;5;28;01mas\u001b[39;00m session:\n\u001b[1;32m---> 59\u001b[0m     \u001b[38;5;28;01mreturn\u001b[39;00m \u001b[43msession\u001b[49m\u001b[38;5;241;43m.\u001b[39;49m\u001b[43mrequest\u001b[49m\u001b[43m(\u001b[49m\u001b[43mmethod\u001b[49m\u001b[38;5;241;43m=\u001b[39;49m\u001b[43mmethod\u001b[49m\u001b[43m,\u001b[49m\u001b[43m \u001b[49m\u001b[43murl\u001b[49m\u001b[38;5;241;43m=\u001b[39;49m\u001b[43murl\u001b[49m\u001b[43m,\u001b[49m\u001b[43m \u001b[49m\u001b[38;5;241;43m*\u001b[39;49m\u001b[38;5;241;43m*\u001b[39;49m\u001b[43mkwargs\u001b[49m\u001b[43m)\u001b[49m\n",
      "File \u001b[1;32mc:\\Users\\Onur\\AppData\\Local\\Programs\\Python\\Python311\\Lib\\site-packages\\requests\\sessions.py:589\u001b[0m, in \u001b[0;36mSession.request\u001b[1;34m(self, method, url, params, data, headers, cookies, files, auth, timeout, allow_redirects, proxies, hooks, stream, verify, cert, json)\u001b[0m\n\u001b[0;32m    584\u001b[0m send_kwargs \u001b[38;5;241m=\u001b[39m {\n\u001b[0;32m    585\u001b[0m     \u001b[38;5;124m\"\u001b[39m\u001b[38;5;124mtimeout\u001b[39m\u001b[38;5;124m\"\u001b[39m: timeout,\n\u001b[0;32m    586\u001b[0m     \u001b[38;5;124m\"\u001b[39m\u001b[38;5;124mallow_redirects\u001b[39m\u001b[38;5;124m\"\u001b[39m: allow_redirects,\n\u001b[0;32m    587\u001b[0m }\n\u001b[0;32m    588\u001b[0m send_kwargs\u001b[38;5;241m.\u001b[39mupdate(settings)\n\u001b[1;32m--> 589\u001b[0m resp \u001b[38;5;241m=\u001b[39m \u001b[38;5;28;43mself\u001b[39;49m\u001b[38;5;241;43m.\u001b[39;49m\u001b[43msend\u001b[49m\u001b[43m(\u001b[49m\u001b[43mprep\u001b[49m\u001b[43m,\u001b[49m\u001b[43m \u001b[49m\u001b[38;5;241;43m*\u001b[39;49m\u001b[38;5;241;43m*\u001b[39;49m\u001b[43msend_kwargs\u001b[49m\u001b[43m)\u001b[49m\n\u001b[0;32m    591\u001b[0m \u001b[38;5;28;01mreturn\u001b[39;00m resp\n",
      "File \u001b[1;32mc:\\Users\\Onur\\AppData\\Local\\Programs\\Python\\Python311\\Lib\\site-packages\\requests\\sessions.py:703\u001b[0m, in \u001b[0;36mSession.send\u001b[1;34m(self, request, **kwargs)\u001b[0m\n\u001b[0;32m    700\u001b[0m start \u001b[38;5;241m=\u001b[39m preferred_clock()\n\u001b[0;32m    702\u001b[0m \u001b[38;5;66;03m# Send the request\u001b[39;00m\n\u001b[1;32m--> 703\u001b[0m r \u001b[38;5;241m=\u001b[39m \u001b[43madapter\u001b[49m\u001b[38;5;241;43m.\u001b[39;49m\u001b[43msend\u001b[49m\u001b[43m(\u001b[49m\u001b[43mrequest\u001b[49m\u001b[43m,\u001b[49m\u001b[43m \u001b[49m\u001b[38;5;241;43m*\u001b[39;49m\u001b[38;5;241;43m*\u001b[39;49m\u001b[43mkwargs\u001b[49m\u001b[43m)\u001b[49m\n\u001b[0;32m    705\u001b[0m \u001b[38;5;66;03m# Total elapsed time of the request (approximately)\u001b[39;00m\n\u001b[0;32m    706\u001b[0m elapsed \u001b[38;5;241m=\u001b[39m preferred_clock() \u001b[38;5;241m-\u001b[39m start\n",
      "File \u001b[1;32mc:\\Users\\Onur\\AppData\\Local\\Programs\\Python\\Python311\\Lib\\site-packages\\requests\\adapters.py:667\u001b[0m, in \u001b[0;36mHTTPAdapter.send\u001b[1;34m(self, request, stream, timeout, verify, cert, proxies)\u001b[0m\n\u001b[0;32m    664\u001b[0m     timeout \u001b[38;5;241m=\u001b[39m TimeoutSauce(connect\u001b[38;5;241m=\u001b[39mtimeout, read\u001b[38;5;241m=\u001b[39mtimeout)\n\u001b[0;32m    666\u001b[0m \u001b[38;5;28;01mtry\u001b[39;00m:\n\u001b[1;32m--> 667\u001b[0m     resp \u001b[38;5;241m=\u001b[39m \u001b[43mconn\u001b[49m\u001b[38;5;241;43m.\u001b[39;49m\u001b[43murlopen\u001b[49m\u001b[43m(\u001b[49m\n\u001b[0;32m    668\u001b[0m \u001b[43m        \u001b[49m\u001b[43mmethod\u001b[49m\u001b[38;5;241;43m=\u001b[39;49m\u001b[43mrequest\u001b[49m\u001b[38;5;241;43m.\u001b[39;49m\u001b[43mmethod\u001b[49m\u001b[43m,\u001b[49m\n\u001b[0;32m    669\u001b[0m \u001b[43m        \u001b[49m\u001b[43murl\u001b[49m\u001b[38;5;241;43m=\u001b[39;49m\u001b[43murl\u001b[49m\u001b[43m,\u001b[49m\n\u001b[0;32m    670\u001b[0m \u001b[43m        \u001b[49m\u001b[43mbody\u001b[49m\u001b[38;5;241;43m=\u001b[39;49m\u001b[43mrequest\u001b[49m\u001b[38;5;241;43m.\u001b[39;49m\u001b[43mbody\u001b[49m\u001b[43m,\u001b[49m\n\u001b[0;32m    671\u001b[0m \u001b[43m        \u001b[49m\u001b[43mheaders\u001b[49m\u001b[38;5;241;43m=\u001b[39;49m\u001b[43mrequest\u001b[49m\u001b[38;5;241;43m.\u001b[39;49m\u001b[43mheaders\u001b[49m\u001b[43m,\u001b[49m\n\u001b[0;32m    672\u001b[0m \u001b[43m        \u001b[49m\u001b[43mredirect\u001b[49m\u001b[38;5;241;43m=\u001b[39;49m\u001b[38;5;28;43;01mFalse\u001b[39;49;00m\u001b[43m,\u001b[49m\n\u001b[0;32m    673\u001b[0m \u001b[43m        \u001b[49m\u001b[43massert_same_host\u001b[49m\u001b[38;5;241;43m=\u001b[39;49m\u001b[38;5;28;43;01mFalse\u001b[39;49;00m\u001b[43m,\u001b[49m\n\u001b[0;32m    674\u001b[0m \u001b[43m        \u001b[49m\u001b[43mpreload_content\u001b[49m\u001b[38;5;241;43m=\u001b[39;49m\u001b[38;5;28;43;01mFalse\u001b[39;49;00m\u001b[43m,\u001b[49m\n\u001b[0;32m    675\u001b[0m \u001b[43m        \u001b[49m\u001b[43mdecode_content\u001b[49m\u001b[38;5;241;43m=\u001b[39;49m\u001b[38;5;28;43;01mFalse\u001b[39;49;00m\u001b[43m,\u001b[49m\n\u001b[0;32m    676\u001b[0m \u001b[43m        \u001b[49m\u001b[43mretries\u001b[49m\u001b[38;5;241;43m=\u001b[39;49m\u001b[38;5;28;43mself\u001b[39;49m\u001b[38;5;241;43m.\u001b[39;49m\u001b[43mmax_retries\u001b[49m\u001b[43m,\u001b[49m\n\u001b[0;32m    677\u001b[0m \u001b[43m        \u001b[49m\u001b[43mtimeout\u001b[49m\u001b[38;5;241;43m=\u001b[39;49m\u001b[43mtimeout\u001b[49m\u001b[43m,\u001b[49m\n\u001b[0;32m    678\u001b[0m \u001b[43m        \u001b[49m\u001b[43mchunked\u001b[49m\u001b[38;5;241;43m=\u001b[39;49m\u001b[43mchunked\u001b[49m\u001b[43m,\u001b[49m\n\u001b[0;32m    679\u001b[0m \u001b[43m    \u001b[49m\u001b[43m)\u001b[49m\n\u001b[0;32m    681\u001b[0m \u001b[38;5;28;01mexcept\u001b[39;00m (ProtocolError, \u001b[38;5;167;01mOSError\u001b[39;00m) \u001b[38;5;28;01mas\u001b[39;00m err:\n\u001b[0;32m    682\u001b[0m     \u001b[38;5;28;01mraise\u001b[39;00m \u001b[38;5;167;01mConnectionError\u001b[39;00m(err, request\u001b[38;5;241m=\u001b[39mrequest)\n",
      "File \u001b[1;32mc:\\Users\\Onur\\AppData\\Local\\Programs\\Python\\Python311\\Lib\\site-packages\\urllib3\\connectionpool.py:793\u001b[0m, in \u001b[0;36mHTTPConnectionPool.urlopen\u001b[1;34m(self, method, url, body, headers, retries, redirect, assert_same_host, timeout, pool_timeout, release_conn, chunked, body_pos, preload_content, decode_content, **response_kw)\u001b[0m\n\u001b[0;32m    790\u001b[0m response_conn \u001b[38;5;241m=\u001b[39m conn \u001b[38;5;28;01mif\u001b[39;00m \u001b[38;5;129;01mnot\u001b[39;00m release_conn \u001b[38;5;28;01melse\u001b[39;00m \u001b[38;5;28;01mNone\u001b[39;00m\n\u001b[0;32m    792\u001b[0m \u001b[38;5;66;03m# Make the request on the HTTPConnection object\u001b[39;00m\n\u001b[1;32m--> 793\u001b[0m response \u001b[38;5;241m=\u001b[39m \u001b[38;5;28;43mself\u001b[39;49m\u001b[38;5;241;43m.\u001b[39;49m\u001b[43m_make_request\u001b[49m\u001b[43m(\u001b[49m\n\u001b[0;32m    794\u001b[0m \u001b[43m    \u001b[49m\u001b[43mconn\u001b[49m\u001b[43m,\u001b[49m\n\u001b[0;32m    795\u001b[0m \u001b[43m    \u001b[49m\u001b[43mmethod\u001b[49m\u001b[43m,\u001b[49m\n\u001b[0;32m    796\u001b[0m \u001b[43m    \u001b[49m\u001b[43murl\u001b[49m\u001b[43m,\u001b[49m\n\u001b[0;32m    797\u001b[0m \u001b[43m    \u001b[49m\u001b[43mtimeout\u001b[49m\u001b[38;5;241;43m=\u001b[39;49m\u001b[43mtimeout_obj\u001b[49m\u001b[43m,\u001b[49m\n\u001b[0;32m    798\u001b[0m \u001b[43m    \u001b[49m\u001b[43mbody\u001b[49m\u001b[38;5;241;43m=\u001b[39;49m\u001b[43mbody\u001b[49m\u001b[43m,\u001b[49m\n\u001b[0;32m    799\u001b[0m \u001b[43m    \u001b[49m\u001b[43mheaders\u001b[49m\u001b[38;5;241;43m=\u001b[39;49m\u001b[43mheaders\u001b[49m\u001b[43m,\u001b[49m\n\u001b[0;32m    800\u001b[0m \u001b[43m    \u001b[49m\u001b[43mchunked\u001b[49m\u001b[38;5;241;43m=\u001b[39;49m\u001b[43mchunked\u001b[49m\u001b[43m,\u001b[49m\n\u001b[0;32m    801\u001b[0m \u001b[43m    \u001b[49m\u001b[43mretries\u001b[49m\u001b[38;5;241;43m=\u001b[39;49m\u001b[43mretries\u001b[49m\u001b[43m,\u001b[49m\n\u001b[0;32m    802\u001b[0m \u001b[43m    \u001b[49m\u001b[43mresponse_conn\u001b[49m\u001b[38;5;241;43m=\u001b[39;49m\u001b[43mresponse_conn\u001b[49m\u001b[43m,\u001b[49m\n\u001b[0;32m    803\u001b[0m \u001b[43m    \u001b[49m\u001b[43mpreload_content\u001b[49m\u001b[38;5;241;43m=\u001b[39;49m\u001b[43mpreload_content\u001b[49m\u001b[43m,\u001b[49m\n\u001b[0;32m    804\u001b[0m \u001b[43m    \u001b[49m\u001b[43mdecode_content\u001b[49m\u001b[38;5;241;43m=\u001b[39;49m\u001b[43mdecode_content\u001b[49m\u001b[43m,\u001b[49m\n\u001b[0;32m    805\u001b[0m \u001b[43m    \u001b[49m\u001b[38;5;241;43m*\u001b[39;49m\u001b[38;5;241;43m*\u001b[39;49m\u001b[43mresponse_kw\u001b[49m\u001b[43m,\u001b[49m\n\u001b[0;32m    806\u001b[0m \u001b[43m\u001b[49m\u001b[43m)\u001b[49m\n\u001b[0;32m    808\u001b[0m \u001b[38;5;66;03m# Everything went great!\u001b[39;00m\n\u001b[0;32m    809\u001b[0m clean_exit \u001b[38;5;241m=\u001b[39m \u001b[38;5;28;01mTrue\u001b[39;00m\n",
      "File \u001b[1;32mc:\\Users\\Onur\\AppData\\Local\\Programs\\Python\\Python311\\Lib\\site-packages\\urllib3\\connectionpool.py:537\u001b[0m, in \u001b[0;36mHTTPConnectionPool._make_request\u001b[1;34m(self, conn, method, url, body, headers, retries, timeout, chunked, response_conn, preload_content, decode_content, enforce_content_length)\u001b[0m\n\u001b[0;32m    535\u001b[0m \u001b[38;5;66;03m# Receive the response from the server\u001b[39;00m\n\u001b[0;32m    536\u001b[0m \u001b[38;5;28;01mtry\u001b[39;00m:\n\u001b[1;32m--> 537\u001b[0m     response \u001b[38;5;241m=\u001b[39m \u001b[43mconn\u001b[49m\u001b[38;5;241;43m.\u001b[39;49m\u001b[43mgetresponse\u001b[49m\u001b[43m(\u001b[49m\u001b[43m)\u001b[49m\n\u001b[0;32m    538\u001b[0m \u001b[38;5;28;01mexcept\u001b[39;00m (BaseSSLError, \u001b[38;5;167;01mOSError\u001b[39;00m) \u001b[38;5;28;01mas\u001b[39;00m e:\n\u001b[0;32m    539\u001b[0m     \u001b[38;5;28mself\u001b[39m\u001b[38;5;241m.\u001b[39m_raise_timeout(err\u001b[38;5;241m=\u001b[39me, url\u001b[38;5;241m=\u001b[39murl, timeout_value\u001b[38;5;241m=\u001b[39mread_timeout)\n",
      "File \u001b[1;32mc:\\Users\\Onur\\AppData\\Local\\Programs\\Python\\Python311\\Lib\\site-packages\\urllib3\\connection.py:466\u001b[0m, in \u001b[0;36mHTTPConnection.getresponse\u001b[1;34m(self)\u001b[0m\n\u001b[0;32m    463\u001b[0m \u001b[38;5;28;01mfrom\u001b[39;00m \u001b[38;5;21;01m.\u001b[39;00m\u001b[38;5;21;01mresponse\u001b[39;00m \u001b[38;5;28;01mimport\u001b[39;00m HTTPResponse\n\u001b[0;32m    465\u001b[0m \u001b[38;5;66;03m# Get the response from http.client.HTTPConnection\u001b[39;00m\n\u001b[1;32m--> 466\u001b[0m httplib_response \u001b[38;5;241m=\u001b[39m \u001b[38;5;28;43msuper\u001b[39;49m\u001b[43m(\u001b[49m\u001b[43m)\u001b[49m\u001b[38;5;241;43m.\u001b[39;49m\u001b[43mgetresponse\u001b[49m\u001b[43m(\u001b[49m\u001b[43m)\u001b[49m\n\u001b[0;32m    468\u001b[0m \u001b[38;5;28;01mtry\u001b[39;00m:\n\u001b[0;32m    469\u001b[0m     assert_header_parsing(httplib_response\u001b[38;5;241m.\u001b[39mmsg)\n",
      "File \u001b[1;32mc:\\Users\\Onur\\AppData\\Local\\Programs\\Python\\Python311\\Lib\\http\\client.py:1375\u001b[0m, in \u001b[0;36mHTTPConnection.getresponse\u001b[1;34m(self)\u001b[0m\n\u001b[0;32m   1373\u001b[0m \u001b[38;5;28;01mtry\u001b[39;00m:\n\u001b[0;32m   1374\u001b[0m     \u001b[38;5;28;01mtry\u001b[39;00m:\n\u001b[1;32m-> 1375\u001b[0m         \u001b[43mresponse\u001b[49m\u001b[38;5;241;43m.\u001b[39;49m\u001b[43mbegin\u001b[49m\u001b[43m(\u001b[49m\u001b[43m)\u001b[49m\n\u001b[0;32m   1376\u001b[0m     \u001b[38;5;28;01mexcept\u001b[39;00m \u001b[38;5;167;01mConnectionError\u001b[39;00m:\n\u001b[0;32m   1377\u001b[0m         \u001b[38;5;28mself\u001b[39m\u001b[38;5;241m.\u001b[39mclose()\n",
      "File \u001b[1;32mc:\\Users\\Onur\\AppData\\Local\\Programs\\Python\\Python311\\Lib\\http\\client.py:318\u001b[0m, in \u001b[0;36mHTTPResponse.begin\u001b[1;34m(self)\u001b[0m\n\u001b[0;32m    316\u001b[0m \u001b[38;5;66;03m# read until we get a non-100 response\u001b[39;00m\n\u001b[0;32m    317\u001b[0m \u001b[38;5;28;01mwhile\u001b[39;00m \u001b[38;5;28;01mTrue\u001b[39;00m:\n\u001b[1;32m--> 318\u001b[0m     version, status, reason \u001b[38;5;241m=\u001b[39m \u001b[38;5;28;43mself\u001b[39;49m\u001b[38;5;241;43m.\u001b[39;49m\u001b[43m_read_status\u001b[49m\u001b[43m(\u001b[49m\u001b[43m)\u001b[49m\n\u001b[0;32m    319\u001b[0m     \u001b[38;5;28;01mif\u001b[39;00m status \u001b[38;5;241m!=\u001b[39m CONTINUE:\n\u001b[0;32m    320\u001b[0m         \u001b[38;5;28;01mbreak\u001b[39;00m\n",
      "File \u001b[1;32mc:\\Users\\Onur\\AppData\\Local\\Programs\\Python\\Python311\\Lib\\http\\client.py:279\u001b[0m, in \u001b[0;36mHTTPResponse._read_status\u001b[1;34m(self)\u001b[0m\n\u001b[0;32m    278\u001b[0m \u001b[38;5;28;01mdef\u001b[39;00m \u001b[38;5;21m_read_status\u001b[39m(\u001b[38;5;28mself\u001b[39m):\n\u001b[1;32m--> 279\u001b[0m     line \u001b[38;5;241m=\u001b[39m \u001b[38;5;28mstr\u001b[39m(\u001b[38;5;28;43mself\u001b[39;49m\u001b[38;5;241;43m.\u001b[39;49m\u001b[43mfp\u001b[49m\u001b[38;5;241;43m.\u001b[39;49m\u001b[43mreadline\u001b[49m\u001b[43m(\u001b[49m\u001b[43m_MAXLINE\u001b[49m\u001b[43m \u001b[49m\u001b[38;5;241;43m+\u001b[39;49m\u001b[43m \u001b[49m\u001b[38;5;241;43m1\u001b[39;49m\u001b[43m)\u001b[49m, \u001b[38;5;124m\"\u001b[39m\u001b[38;5;124miso-8859-1\u001b[39m\u001b[38;5;124m\"\u001b[39m)\n\u001b[0;32m    280\u001b[0m     \u001b[38;5;28;01mif\u001b[39;00m \u001b[38;5;28mlen\u001b[39m(line) \u001b[38;5;241m>\u001b[39m _MAXLINE:\n\u001b[0;32m    281\u001b[0m         \u001b[38;5;28;01mraise\u001b[39;00m LineTooLong(\u001b[38;5;124m\"\u001b[39m\u001b[38;5;124mstatus line\u001b[39m\u001b[38;5;124m\"\u001b[39m)\n",
      "File \u001b[1;32mc:\\Users\\Onur\\AppData\\Local\\Programs\\Python\\Python311\\Lib\\socket.py:706\u001b[0m, in \u001b[0;36mSocketIO.readinto\u001b[1;34m(self, b)\u001b[0m\n\u001b[0;32m    704\u001b[0m \u001b[38;5;28;01mwhile\u001b[39;00m \u001b[38;5;28;01mTrue\u001b[39;00m:\n\u001b[0;32m    705\u001b[0m     \u001b[38;5;28;01mtry\u001b[39;00m:\n\u001b[1;32m--> 706\u001b[0m         \u001b[38;5;28;01mreturn\u001b[39;00m \u001b[38;5;28;43mself\u001b[39;49m\u001b[38;5;241;43m.\u001b[39;49m\u001b[43m_sock\u001b[49m\u001b[38;5;241;43m.\u001b[39;49m\u001b[43mrecv_into\u001b[49m\u001b[43m(\u001b[49m\u001b[43mb\u001b[49m\u001b[43m)\u001b[49m\n\u001b[0;32m    707\u001b[0m     \u001b[38;5;28;01mexcept\u001b[39;00m timeout:\n\u001b[0;32m    708\u001b[0m         \u001b[38;5;28mself\u001b[39m\u001b[38;5;241m.\u001b[39m_timeout_occurred \u001b[38;5;241m=\u001b[39m \u001b[38;5;28;01mTrue\u001b[39;00m\n",
      "File \u001b[1;32mc:\\Users\\Onur\\AppData\\Local\\Programs\\Python\\Python311\\Lib\\ssl.py:1278\u001b[0m, in \u001b[0;36mSSLSocket.recv_into\u001b[1;34m(self, buffer, nbytes, flags)\u001b[0m\n\u001b[0;32m   1274\u001b[0m     \u001b[38;5;28;01mif\u001b[39;00m flags \u001b[38;5;241m!=\u001b[39m \u001b[38;5;241m0\u001b[39m:\n\u001b[0;32m   1275\u001b[0m         \u001b[38;5;28;01mraise\u001b[39;00m \u001b[38;5;167;01mValueError\u001b[39;00m(\n\u001b[0;32m   1276\u001b[0m           \u001b[38;5;124m\"\u001b[39m\u001b[38;5;124mnon-zero flags not allowed in calls to recv_into() on \u001b[39m\u001b[38;5;132;01m%s\u001b[39;00m\u001b[38;5;124m\"\u001b[39m \u001b[38;5;241m%\u001b[39m\n\u001b[0;32m   1277\u001b[0m           \u001b[38;5;28mself\u001b[39m\u001b[38;5;241m.\u001b[39m\u001b[38;5;18m__class__\u001b[39m)\n\u001b[1;32m-> 1278\u001b[0m     \u001b[38;5;28;01mreturn\u001b[39;00m \u001b[38;5;28;43mself\u001b[39;49m\u001b[38;5;241;43m.\u001b[39;49m\u001b[43mread\u001b[49m\u001b[43m(\u001b[49m\u001b[43mnbytes\u001b[49m\u001b[43m,\u001b[49m\u001b[43m \u001b[49m\u001b[43mbuffer\u001b[49m\u001b[43m)\u001b[49m\n\u001b[0;32m   1279\u001b[0m \u001b[38;5;28;01melse\u001b[39;00m:\n\u001b[0;32m   1280\u001b[0m     \u001b[38;5;28;01mreturn\u001b[39;00m \u001b[38;5;28msuper\u001b[39m()\u001b[38;5;241m.\u001b[39mrecv_into(buffer, nbytes, flags)\n",
      "File \u001b[1;32mc:\\Users\\Onur\\AppData\\Local\\Programs\\Python\\Python311\\Lib\\ssl.py:1134\u001b[0m, in \u001b[0;36mSSLSocket.read\u001b[1;34m(self, len, buffer)\u001b[0m\n\u001b[0;32m   1132\u001b[0m \u001b[38;5;28;01mtry\u001b[39;00m:\n\u001b[0;32m   1133\u001b[0m     \u001b[38;5;28;01mif\u001b[39;00m buffer \u001b[38;5;129;01mis\u001b[39;00m \u001b[38;5;129;01mnot\u001b[39;00m \u001b[38;5;28;01mNone\u001b[39;00m:\n\u001b[1;32m-> 1134\u001b[0m         \u001b[38;5;28;01mreturn\u001b[39;00m \u001b[38;5;28;43mself\u001b[39;49m\u001b[38;5;241;43m.\u001b[39;49m\u001b[43m_sslobj\u001b[49m\u001b[38;5;241;43m.\u001b[39;49m\u001b[43mread\u001b[49m\u001b[43m(\u001b[49m\u001b[38;5;28;43mlen\u001b[39;49m\u001b[43m,\u001b[49m\u001b[43m \u001b[49m\u001b[43mbuffer\u001b[49m\u001b[43m)\u001b[49m\n\u001b[0;32m   1135\u001b[0m     \u001b[38;5;28;01melse\u001b[39;00m:\n\u001b[0;32m   1136\u001b[0m         \u001b[38;5;28;01mreturn\u001b[39;00m \u001b[38;5;28mself\u001b[39m\u001b[38;5;241m.\u001b[39m_sslobj\u001b[38;5;241m.\u001b[39mread(\u001b[38;5;28mlen\u001b[39m)\n",
      "\u001b[1;31mKeyboardInterrupt\u001b[0m: "
     ]
    }
   ],
   "source": [
    "# if bloklari kullanmazsam 11.6 saniye suruyor, kullanirsam 1 dakika suruyor\n",
    "main_link = \"https://www.biletinial.com\"\n",
    "for link in music_links:\n",
    "    main_page = requests.get(main_link + link)\n",
    "    main_soup = BeautifulSoup(main_page.text, 'html.parser')\n",
    "    \n",
    "    # Find event details\n",
    "    event_details = main_soup.find('div', class_='eventDetails')\n",
    "    # if event_details:\n",
    "    event_title = event_details.find('h1').text # if event_details.find('h1') else 'No title found'\n",
    "        \n",
    "        # Find the event rules section\n",
    "    # event_rules_section = main_soup.find('section', class_='eventDetailBody')\n",
    "    #     # if event_rules_section:\n",
    "    # tab_content_wrapper = event_rules_section.find('div', class_='tabContentWrapper flex directionColumn fluid')\n",
    "    #         # if tab_content_wrapper:\n",
    "    # event_rules_div = tab_content_wrapper.find('div', {'data-content': 'commentEtkinlikKurallari'})\n",
    "    #             # if event_rules_div:\n",
    "    # event_rules_p = event_rules_div.find_all('p')\n",
    "    # for p in event_rules_p:\n",
    "    #     print(p.text)\n",
    "    #             else:\n",
    "    #                 print(f\"No event rules div found for event: {event_title}\")\n",
    "    #         else:\n",
    "    #             print(f\"No tab content wrapper found for event: {event_title}\")\n",
    "    #     else:\n",
    "    #         print(f\"No event rules section found for event: {event_title}\")\n",
    "    # else:\n",
    "    #     print(f\"No event details found for link: {link}\") "
   ]
  },
  {
   "cell_type": "code",
   "execution_count": 4,
   "metadata": {},
   "outputs": [],
   "source": [
    "# model = [\n",
    "#     {\n",
    "#         \"title\": \"motive Konseri\", \n",
    "#         \"sanatci\": \"motive\",\n",
    "#         \"tur\": \"rap\"\n",
    "#         \"thumbnail\": \"https://www.biletinial.com/Content/Uploads/Event/EventDetail/2021/10/5/5e4b7b7b-0b7b-4b7b-8b7b-7b0b7b4b7b0b.jpg\",\n",
    "#         \"etkinlik\" : [{\"sehir\": \"antalya\", \"mekan\": \"antalya arena\", \"tarih\": \"12.12.2021\", \"saat\": \"20:00\", \"organizasyon_sahibi\": \"setart organizasyon\", \"bilet_fiyati\": \"100\", link: \"https://www.biletinial.com/tr-tr/motive-konseri-antalya-arena-12-12-2021-20-00-100-tl-5e4b7b7b-0b7b-4b7b-8b7b-7b0b7b4b7b0b\"}],\n",
    "#         \"etkinlik_kurallari\": \"18 yas siniri vardir, alkol yasaktir, sigara icmek yasaktir, kamera getirmeyiniz\",\n",
    "#         \"bilet_sitesi\": \"biletinial\"\n",
    "#     }\n",
    "# ]\n",
    "\n",
    "from dataclasses import dataclass\n",
    "\n",
    "@dataclass\n",
    "class Event:\n",
    "    city: str #\n",
    "    location: str #\n",
    "    date: str #\n",
    "    time: str #\n",
    "    organization: str #\n",
    "    price: str #\n",
    "    start_date: str #\n",
    "    link: str #\n",
    "\n",
    "@dataclass\n",
    "class EventHeaderDetails:\n",
    "    title: str #\n",
    "    artist: str\n",
    "    genre: str\n",
    "    thumbnail: str\n",
    "    rules: list[str]\n",
    "    ticket_site: str\n",
    "    # events: list[Event]\n",
    "    \n",
    "    "
   ]
  },
  {
   "cell_type": "code",
   "execution_count": 8,
   "metadata": {},
   "outputs": [
    {
     "ename": "AttributeError",
     "evalue": "'NoneType' object has no attribute 'find'",
     "output_type": "error",
     "traceback": [
      "\u001b[1;31m---------------------------------------------------------------------------\u001b[0m",
      "\u001b[1;31mAttributeError\u001b[0m                            Traceback (most recent call last)",
      "Cell \u001b[1;32mIn[8], line 19\u001b[0m\n\u001b[0;32m     16\u001b[0m event_summary \u001b[38;5;241m=\u001b[39m event_header_container\u001b[38;5;241m.\u001b[39mfind(\u001b[38;5;124m'\u001b[39m\u001b[38;5;124mdiv\u001b[39m\u001b[38;5;124m'\u001b[39m, class_\u001b[38;5;241m=\u001b[39m\u001b[38;5;124m'\u001b[39m\u001b[38;5;124meventSummary\u001b[39m\u001b[38;5;124m'\u001b[39m)\n\u001b[0;32m     18\u001b[0m event_details \u001b[38;5;241m=\u001b[39m event_summary\u001b[38;5;241m.\u001b[39mfind(\u001b[38;5;124m'\u001b[39m\u001b[38;5;124meventDetails\u001b[39m\u001b[38;5;124m'\u001b[39m) \n\u001b[1;32m---> 19\u001b[0m event_title \u001b[38;5;241m=\u001b[39m \u001b[43mevent_details\u001b[49m\u001b[38;5;241;43m.\u001b[39;49m\u001b[43mfind\u001b[49m(\u001b[38;5;124m'\u001b[39m\u001b[38;5;124mh1\u001b[39m\u001b[38;5;124m'\u001b[39m)\u001b[38;5;241m.\u001b[39mtext \u001b[38;5;66;03m# Title\u001b[39;00m\n\u001b[0;32m     21\u001b[0m event_artist \u001b[38;5;241m=\u001b[39m event_title\u001b[38;5;241m.\u001b[39msplit(\u001b[38;5;124m'\u001b[39m\u001b[38;5;124mKonseri\u001b[39m\u001b[38;5;124m'\u001b[39m)[\u001b[38;5;241m0\u001b[39m] \u001b[38;5;66;03m# Artist\u001b[39;00m\n\u001b[0;32m     23\u001b[0m event_type_tag \u001b[38;5;241m=\u001b[39m event_details\u001b[38;5;241m.\u001b[39mfind(\u001b[38;5;124m'\u001b[39m\u001b[38;5;124mul\u001b[39m\u001b[38;5;124m'\u001b[39m, class_\u001b[38;5;241m=\u001b[39m\u001b[38;5;124m'\u001b[39m\u001b[38;5;124meventTags\u001b[39m\u001b[38;5;124m'\u001b[39m)\n",
      "\u001b[1;31mAttributeError\u001b[0m: 'NoneType' object has no attribute 'find'"
     ]
    }
   ],
   "source": []
  },
  {
   "cell_type": "code",
   "execution_count": 19,
   "metadata": {},
   "outputs": [],
   "source": [
    "from pymongo import MongoClient\n",
    "\n",
    "client = MongoClient('localhost', 27017)\n",
    "\n",
    "db = client['music_event']\n",
    "collection = db['biletinialevent']\n",
    "\n",
    "for event in event_list_json:\n",
    "    collection.insert_one(event)\n",
    "\n"
   ]
  },
  {
   "cell_type": "code",
   "execution_count": 8,
   "metadata": {},
   "outputs": [
    {
     "name": "stdout",
     "output_type": "stream",
     "text": [
      "link: /tr-tr/muzik/cini-sanati-ile-tanisiyorum-akm - counter: 1\n"
     ]
    }
   ],
   "source": [
    "from dataclasses import asdict\n",
    "import requests\n",
    "from bs4 import BeautifulSoup\n",
    "\n",
    "main_link = \"https://www.biletinial.com\"\n",
    "\n",
    "event_link_list_index = 0\n",
    "\n",
    "event_list_json = []\n",
    "\n",
    "counter = 0\n",
    "\n",
    "for link in music_links:\n",
    "    main_page = requests.get(main_link + link)\n",
    "    main_soup = BeautifulSoup(main_page.text, 'html.parser')\n",
    "\n",
    "    event_detail_header_section = main_soup.find('section', class_='eventDetailHeader')\n",
    "    event_detail_body_section = main_soup.find('section', class_='eventDetailBody')\n",
    "\n",
    "    event_header_content = event_detail_header_section.find('div', class_='eventHeaderContent')\n",
    "    event_header_container = event_header_content.find('div', class_='container')\n",
    "    event_summary = event_header_container.find('div', class_='eventSummary')\n",
    "\n",
    "    event_title = event_summary.find('h1').text  # Title\n",
    "\n",
    "    event_artist = event_title.split('Konseri')[0].strip()  # Artist\n",
    "\n",
    "    event_type_tag = event_summary.find('ul', class_='eventTags')\n",
    "    event_type_list = event_type_tag.findAll('li')\n",
    "    event_type = event_type_list[0].text.strip()  # Event type\n",
    "\n",
    "    event_thumbnail_div = event_summary.find('div', class_='poster')\n",
    "    event_thumbnail = event_thumbnail_div.find('img')['src']  # Thumbnail\n",
    "\n",
    "    event_detail_body_container = event_detail_body_section.findAll('div', class_='container')[0]\n",
    "    tab_content_wrapper = event_detail_body_section.find('div', class_='tabContentWrapper flex directionColumn fluid')\n",
    "    event_rules_div = tab_content_wrapper.find('div', {'data-content': 'commentEtkinlikKurallari'})\n",
    "    event_rules_p = event_rules_div.find_all('p')\n",
    "    event_rules = [p.text.strip() for p in event_rules_p]  # Event rules\n",
    "\n",
    "    event_detail_body_ed_biletler = event_detail_body_section.find('div', class_='ed-biletler')\n",
    "    if event_detail_body_ed_biletler and len(event_detail_body_ed_biletler.findAll('div', class_='ed-biletler__sehir')) > 0:\n",
    "        event_detail_body_ed_biletler_sehir_list = event_detail_body_ed_biletler.findAll('div', class_='ed-biletler__sehir')\n",
    "    else:\n",
    "        counter += 1\n",
    "        print(f\"link: {link} - counter: {counter}\")\n",
    "        continue  # Eğer ed-biletler bölümü yoksa, bu iterasyonu atla ve bir sonraki linke geç\n",
    "\n",
    "    for event_detail_body_ed_biletler_sehir in event_detail_body_ed_biletler_sehir_list:\n",
    "        event_detail_body_ed_biletler_sehir_gun_list = event_detail_body_ed_biletler_sehir.findAll('div', class_='ed-biletler__sehir__gun')\n",
    "\n",
    "        event_header_details = EventHeaderDetails(\n",
    "            title=event_title,\n",
    "            artist=event_artist,\n",
    "            genre=event_type,\n",
    "            thumbnail=event_thumbnail,\n",
    "            rules=event_rules,\n",
    "            ticket_site='biletinial'\n",
    "        )\n",
    "\n",
    "        for event_detail_body_ed_biletler_sehir_gun in event_detail_body_ed_biletler_sehir_gun_list:\n",
    "            event_detail_body_ed_biletler_sehir_gun_detay = event_detail_body_ed_biletler_sehir_gun.find('div', class_='ed-biletler__sehir__gun__detay')\n",
    "            \n",
    "            if not event_detail_body_ed_biletler_sehir_gun_detay:\n",
    "                counter += 1\n",
    "                print(f\"link: {link} - counter: {counter}\")\n",
    "                continue  # Eğer detay bölümü yoksa, bir sonraki iterasyona geç\n",
    "\n",
    "            time_texts = event_detail_body_ed_biletler_sehir_gun_detay.find('time').text.split(', ')\n",
    "            event_detail_date = time_texts[0] if len(time_texts) > 0 else None  # Date\n",
    "            event_detail_time = time_texts[1] if len(time_texts) > 1 else None  # Time\n",
    "            event_detail_time_code = event_detail_body_ed_biletler_sehir_gun_detay.find('time')['content'] if 'content' in event_detail_body_ed_biletler_sehir_gun_detay.find('time').attrs else None  # Time code\n",
    "\n",
    "            event_detail_body_ed_biletler_sehir_gun_organizator_div = event_detail_body_ed_biletler_sehir_gun.find('div', class_='ed-biletler__sehir__gun__organizator')\n",
    "            event_detail_organizator = 'Bilinmeyen Organizasyon'\n",
    "            if event_detail_body_ed_biletler_sehir_gun_organizator_div:\n",
    "                event_detail_organizator_span = event_detail_body_ed_biletler_sehir_gun_organizator_div.find('span')\n",
    "                if event_detail_organizator_span:\n",
    "                    event_detail_organizator = event_detail_organizator_span.text.strip()\n",
    "\n",
    "            event_detail_body_ed_biletler_sehir_gun_fiyat = event_detail_body_ed_biletler_sehir_gun.find('div', class_='ed-biletler__sehir__gun__fiyat')\n",
    "            event_detail_price = event_detail_body_ed_biletler_sehir_gun_fiyat.find('span').text.strip() if event_detail_body_ed_biletler_sehir_gun_fiyat.find('span') else 'Unknown'\n",
    "\n",
    "            event_detail_city = event_detail_body_ed_biletler_sehir['data-sehir']  # City\n",
    "\n",
    "            event_detail_location = event_detail_body_ed_biletler_sehir_gun_detay.find('a')['title'].strip()  # Location\n",
    "\n",
    "            event_detail_link = main_link + link  # Link\n",
    "\n",
    "            event = Event(\n",
    "                city=event_detail_city,\n",
    "                location=event_detail_location,\n",
    "                date=event_detail_date,\n",
    "                time=event_detail_time,\n",
    "                organization=event_detail_organizator,\n",
    "                price=event_detail_price,\n",
    "                start_date=event_detail_time_code,\n",
    "                link=event_detail_link\n",
    "            )\n",
    "\n",
    "            event_list_json.append({\"Event\": asdict(event), \"EventDetails\": asdict(event_header_details)})\n",
    "\n",
    "            # print(asdict(event))"
   ]
  },
  {
   "cell_type": "code",
   "execution_count": 11,
   "metadata": {},
   "outputs": [],
   "source": [
    "from pymongo import MongoClient\n",
    "\n",
    "client = MongoClient('localhost', 27017)\n",
    "\n",
    "db = client['music_event']\n",
    "collection = db['biletinialevent']\n",
    "\n",
    "for event in event_list_json:\n",
    "    collection.insert_one(event)\n"
   ]
  },
  {
   "cell_type": "code",
   "execution_count": null,
   "metadata": {},
   "outputs": [],
   "source": []
  }
 ],
 "metadata": {
  "kernelspec": {
   "display_name": "Python 3",
   "language": "python",
   "name": "python3"
  },
  "language_info": {
   "codemirror_mode": {
    "name": "ipython",
    "version": 3
   },
   "file_extension": ".py",
   "mimetype": "text/x-python",
   "name": "python",
   "nbconvert_exporter": "python",
   "pygments_lexer": "ipython3",
   "version": "3.11.3"
  }
 },
 "nbformat": 4,
 "nbformat_minor": 2
}
